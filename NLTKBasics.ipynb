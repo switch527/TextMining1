{
 "cells": [
  {
   "cell_type": "code",
   "execution_count": null,
   "metadata": {
    "collapsed": true
   },
   "outputs": [],
   "source": [
    "#initial setup to get stop words and such\n",
    "#import nltk\n",
    "#nltk.download()\n",
    "\n",
    "#import tools\n",
    "import string\n",
    "import math\n",
    "from nltk.corpus import stopwords\n",
    "from nltk.tokenize import sent_tokenize as sentTok, word_tokenize as wordTok\n",
    "from nltk.stem import PorterStemmer, LancasterStemmer\n",
    "from sklearn.metrics import jaccard_similarity_score as jscore\n",
    "from sklearn.feature_extraction.text import TfidfVectorizer\n",
    "from sklearn.metrics.pairwise import cosine_similarity\n",
    "from collections import Counter"
   ]
  },
  {
   "cell_type": "code",
   "execution_count": null,
   "metadata": {
    "collapsed": true
   },
   "outputs": [],
   "source": [
    "#assign tools\n",
    "portStem = PorterStemmer()\n",
    "lanStem = LancasterStemmer()\n",
    "stopWords = set(stopwords.words(\"english\"))\n",
    "tfidf_vectorizer = TfidfVectorizer()"
   ]
  },
  {
   "cell_type": "code",
   "execution_count": null,
   "metadata": {
    "collapsed": true
   },
   "outputs": [],
   "source": [
    "#print stopWords"
   ]
  },
  {
   "cell_type": "code",
   "execution_count": null,
   "metadata": {
    "collapsed": true
   },
   "outputs": [],
   "source": [
    "#importing and reading the documents\n",
    "teslaSummary1 = open(\"D:\\Google Drive\\Grad School\\UIC\\MS-MIS\\IDS566\\Assignment2\\IPOFiles-Folder 18\\Tesla Motors Inc\\Tesla Motors Inc_Analyzer1_Summary.txt\", \"r\")\n",
    "teslaSummary5 = open(\"D:\\Google Drive\\Grad School\\UIC\\MS-MIS\\IDS566\\Assignment2\\IPOFiles-Folder 18\\Tesla Motors Inc\\Tesla Motors Inc_Analyzer5_Summary.txt\", \"r\")\n",
    "tesSum1 = teslaSummary1.read()\n",
    "tesSum5 = teslaSummary5.read()"
   ]
  },
  {
   "cell_type": "code",
   "execution_count": null,
   "metadata": {
    "collapsed": true
   },
   "outputs": [],
   "source": [
    "#lower case\n",
    "tesSum1 = tesSum1.lower()\n",
    "tesSum5 = tesSum5.lower()"
   ]
  },
  {
   "cell_type": "code",
   "execution_count": null,
   "metadata": {
    "collapsed": true
   },
   "outputs": [],
   "source": [
    "#remove punctuation\n",
    "tesSum1 = tesSum1.translate(None, string.punctuation)\n",
    "tesSum5 = tesSum5.translate(None, string.punctuation)"
   ]
  },
  {
   "cell_type": "code",
   "execution_count": null,
   "metadata": {
    "collapsed": true
   },
   "outputs": [],
   "source": [
    "#print tesSum1\n",
    "#print tesSum5"
   ]
  },
  {
   "cell_type": "code",
   "execution_count": null,
   "metadata": {
    "collapsed": true
   },
   "outputs": [],
   "source": [
    "#sentence tokenization just for fun\n",
    "#sum1Sent = sentTok(tesSum1)\n",
    "#sum5Sent = sentTok(tesSum5)"
   ]
  },
  {
   "cell_type": "code",
   "execution_count": null,
   "metadata": {
    "collapsed": true
   },
   "outputs": [],
   "source": [
    "#word tokenization\n",
    "sum1Word = wordTok(tesSum1)\n",
    "sum5Word = wordTok(tesSum5)\n",
    "#print sum1Word\n",
    "#print sum5Word"
   ]
  },
  {
   "cell_type": "code",
   "execution_count": null,
   "metadata": {
    "collapsed": true
   },
   "outputs": [],
   "source": [
    "#filtering out stopwords from nltk.corpus\n",
    "sum1Filtered = []\n",
    "for w in sum1Word:\n",
    "    if w not in stopWords:\n",
    "        sum1Filtered.append(w)\n",
    "#print sum1Filtered\n",
    "\n",
    "sum5Filtered = []\n",
    "for w in sum5Word:\n",
    "    if w not in stopWords:\n",
    "        sum5Filtered.append(w)\n",
    "#print sum5Filtered"
   ]
  },
  {
   "cell_type": "code",
   "execution_count": null,
   "metadata": {
    "collapsed": true
   },
   "outputs": [],
   "source": [
    "#loops to find and fix ascii decoding problems. Run first loop and if anything displays run second loop\n",
    "##much more efficiant way of doing this in next datamining notebook\n",
    "for w in sum1Filtered:\n",
    "    for char in w:\n",
    "        if ord(char)>127:\n",
    "             print char\n",
    "\n",
    "for w in sum1Filtered:\n",
    "    for char in w:\n",
    "        if ord(char) > 127:\n",
    "             sum1Filtered.remove(w)\n",
    "\n",
    "for w in sum5Filtered:\n",
    "    for char in w:\n",
    "        if ord(char)>127:\n",
    "             print char\n",
    "\n",
    "for w in sum5Filtered:\n",
    "    for char in w:\n",
    "        if ord(char) > 127:\n",
    "             sum5Filtered.remove(w)"
   ]
  },
  {
   "cell_type": "code",
   "execution_count": null,
   "metadata": {
    "collapsed": true
   },
   "outputs": [],
   "source": [
    "#stemming experiments\n",
    "sum1Stemmed = []\n",
    "for w in sum1Filtered:\n",
    "    sum1Stemmed.append(lanStem.stem(w))\n",
    "#print sum1Stemmed\n",
    "\n",
    "sum5Stemmed = []\n",
    "for w in sum5Filtered:\n",
    "    sum5Stemmed.append(portStem.stem(w))\n",
    "#print sum5Stemmed\n",
    "\n",
    "#word count\n",
    "sum1TF = Counter(sum1Stemmed)\n",
    "sum5TF = Counter(sum5Stemmed)"
   ]
  },
  {
   "cell_type": "code",
   "execution_count": null,
   "metadata": {
    "collapsed": true
   },
   "outputs": [],
   "source": [
    "#sub linear TF Scaling\n",
    "for key in sum1TF:\n",
    "    x = sum1TF[key]\n",
    "    if x > 0:\n",
    "        sum1TF[key] =  1 + math.log(x)\n",
    "\n",
    "for key in sum5TF:\n",
    "    x = sum5TF[key]\n",
    "    if x > 0:\n",
    "        sum5TF[key] =  1 + math.log(x)"
   ]
  },
  {
   "cell_type": "code",
   "execution_count": null,
   "metadata": {
    "collapsed": true
   },
   "outputs": [],
   "source": [
    "#NOT DONE PROPERLY! REEVISIT AT END OF SEMESTER!\n",
    "\n",
    "#Calculating Jaccard Similarity\n",
    "interSum = float(sum(intersection.values()))\n",
    "#print interSum\n",
    "unSum = float(sum(union.values()))\n",
    "#print unSum\n",
    "jaccard = interSum/unSum\n",
    "#print jaccard\n",
    "\n",
    "#calculating Cosine Similarity\n",
    "sum1 = \n",
    "sum1Matrix = tfidf_vectorizer.fit_transform(sum1Stemmed, sum5Stemmed)\n",
    "cosine_similarity(sum1Matrix[0:1], sum1Matrix)"
   ]
  }
 ],
 "metadata": {
  "kernelspec": {
   "display_name": "Python 2",
   "language": "python",
   "name": "python2"
  },
  "language_info": {
   "codemirror_mode": {
    "name": "ipython",
    "version": 2
   },
   "file_extension": ".py",
   "mimetype": "text/x-python",
   "name": "python",
   "nbconvert_exporter": "python",
   "pygments_lexer": "ipython2",
   "version": "2.7.11"
  }
 },
 "nbformat": 4,
 "nbformat_minor": 0
}
